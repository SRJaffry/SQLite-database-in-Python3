{
 "cells": [
  {
   "cell_type": "code",
   "execution_count": 9,
   "id": "032a9f61-4add-4568-ab66-14201ea4479c",
   "metadata": {},
   "outputs": [],
   "source": [
    "import os\n",
    "import tkinter as tk"
   ]
  },
  {
   "cell_type": "markdown",
   "id": "2a1fee42-be32-4be4-9f78-6a9bc3f1e78a",
   "metadata": {},
   "source": [
    "## Sqlite Database creation by reading a text file"
   ]
  },
  {
   "cell_type": "code",
   "execution_count": 5,
   "id": "74501d84-fbc7-45bb-83c7-eaa7e4af4ff9",
   "metadata": {},
   "outputs": [
    {
     "name": "stdin",
     "output_type": "stream",
     "text": [
      "Enter string to search :  \n"
     ]
    },
    {
     "name": "stdout",
     "output_type": "stream",
     "text": [
      "Table already exist !\n"
     ]
    }
   ],
   "source": [
    "import sqlite3\n",
    "\n",
    "# List of names to be counted\n",
    "list_words = list()\n",
    "\n",
    "''' # 1\n",
    "    * Enter the strings that you want to search. they will be stored in a list.\n",
    "    * If you do not want to enter anything, just press 'Enter' stroke and a default list willbe used\n",
    "'''\n",
    "while True:\n",
    "    n = input('Enter string to search : ')\n",
    "    if len(n) < 1:\n",
    "        break\n",
    "    else:\n",
    "        list_words.append(n)\n",
    "\n",
    "''' # Default List '''        \n",
    "\n",
    "if len(list_words) < 1:\n",
    "    list_words = ['work', 'distraction', 'is', 'by', 'we', 'and']\n",
    "\n",
    "''' #2. \n",
    "    * Now open a file where you want to search for the words.\n",
    "'''\n",
    "# Open and read the text file\n",
    "with open('test_file.txt', 'r') as file:\n",
    "    file_contents = file.read()\n",
    "\n",
    "# Create a dictionary to store name occurrence counts\n",
    "word_counts = {word: file_contents.count(word) for word in list_words}\n",
    "\n",
    "''' # 3\n",
    "    * Connect to the SQLite3 database\n",
    "'''\n",
    "conn = sqlite3.connect('Word_freq.db')\n",
    "c = conn.cursor()\n",
    "\n",
    "''' # 4\n",
    "    * Create Table if NOT Exist\n",
    "'''\n",
    "# making sure that if the table exist, it does not create the table again\n",
    "try:\n",
    "# Create a table to store the name occurrence counts\n",
    "    c.execute('''CREATE TABLE word_counts (word TEXT, count INTEGER)''')\n",
    "    print('New table created.')\n",
    "\n",
    "except sqlite3.OperationalError:\n",
    "    # Insert the name occurrence counts into the table\n",
    "    print('Table already exist !')\n",
    "\n",
    "''' # 5\n",
    "    * Enter contents (i.e. freq. of words) in Table\n",
    "'''\n",
    "# Insert the name occurrence counts into the table\n",
    "for word, count in word_counts.items():\n",
    "    c.execute(\"INSERT INTO word_counts VALUES (?, ?)\", (word, count))\n",
    "\n",
    "''' # 6\n",
    "    * Commit tha changes to the SQLite3 DB and then close the conenction.\n",
    "'''\n",
    "# Commit the changes and close the connection\n",
    "conn.commit()\n",
    "conn.close()\n"
   ]
  },
  {
   "cell_type": "code",
   "execution_count": 8,
   "id": "56767f64-e6f1-41c9-9df7-f3b30892d041",
   "metadata": {},
   "outputs": [
    {
     "name": "stdout",
     "output_type": "stream",
     "text": [
      "same\n"
     ]
    }
   ],
   "source": [
    "# Algo to compare two strings that are same, but have upper and lower case differnce.\n",
    "\n",
    "A = 'Shan'\n",
    "B = 'shan'\n",
    "\n",
    "if (A.lower() == B.lower()):\n",
    "    print('same')\n",
    "else:\n",
    "    print('different')"
   ]
  },
  {
   "cell_type": "code",
   "execution_count": null,
   "id": "34ddcff9-5269-4892-8c45-2c7d6fb16b21",
   "metadata": {},
   "outputs": [],
   "source": []
  }
 ],
 "metadata": {
  "kernelspec": {
   "display_name": "Python 3 (ipykernel)",
   "language": "python",
   "name": "python3"
  },
  "language_info": {
   "codemirror_mode": {
    "name": "ipython",
    "version": 3
   },
   "file_extension": ".py",
   "mimetype": "text/x-python",
   "name": "python",
   "nbconvert_exporter": "python",
   "pygments_lexer": "ipython3",
   "version": "3.9.12"
  }
 },
 "nbformat": 4,
 "nbformat_minor": 5
}
